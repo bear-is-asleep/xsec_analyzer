{
 "cells": [
  {
   "cell_type": "markdown",
   "metadata": {},
   "source": [
    "## 0. Setup packages and Constants"
   ]
  },
  {
   "cell_type": "code",
   "execution_count": 1,
   "metadata": {},
   "outputs": [],
   "source": [
    "import pandas as pd\n",
    "import matplotlib.pyplot as plt\n",
    "import uproot\n",
    "import numpy as np\n",
    "import sys\n",
    "\n",
    "# Utils\n",
    "from utils import plotters\n",
    "\n",
    "plt.style.use('./utils/style.mplstyle')\n",
    "\n",
    "\n",
    "\n",
    "%load_ext autoreload\n",
    "%autoreload 2"
   ]
  },
  {
   "cell_type": "code",
   "execution_count": 2,
   "metadata": {},
   "outputs": [],
   "source": [
    "#Path to the ROOT file containing the cross section histograms\n",
    "DATA_PATH = '/exp/sbnd/data/users/brindenc/xsec_analysis/test/sbruce/cc1mux_med_weight.root'"
   ]
  },
  {
   "cell_type": "markdown",
   "metadata": {},
   "source": [
    "# 1. Load the data"
   ]
  },
  {
   "cell_type": "code",
   "execution_count": 7,
   "metadata": {},
   "outputs": [],
   "source": [
    "tree = uproot.open(DATA_PATH)['stv_tree;1']\n",
    "keys = tree.keys() #display all keys in the ROOT file\n",
    "weight_keys = [key for key in keys if 'weight' in key]"
   ]
  },
  {
   "cell_type": "code",
   "execution_count": 8,
   "metadata": {},
   "outputs": [],
   "source": [
    "#Example\n",
    "leading_muon_momentum = tree['leading_muon_momentum'].array(library='pd')\n",
    "leading_muon_costheta = tree['leading_muon_costheta'].array(library='pd')\n",
    "true_leading_muon_momentum = tree['true_leading_muon_momentum'].array(library='pd')\n",
    "true_leading_muon_costheta = tree['true_leading_muon_costheta'].array(library='pd')"
   ]
  },
  {
   "cell_type": "code",
   "execution_count": 9,
   "metadata": {},
   "outputs": [
    {
     "data": {
      "text/plain": [
       "(np.int64(0), np.int64(0), np.int64(0), np.int64(0))"
      ]
     },
     "execution_count": 9,
     "metadata": {},
     "output_type": "execute_result"
    }
   ],
   "source": [
    "leading_muon_costheta.isna().sum(), leading_muon_momentum.isna().sum(),true_leading_muon_costheta.isna().sum(), true_leading_muon_momentum.isna().sum()"
   ]
  },
  {
   "cell_type": "code",
   "execution_count": 10,
   "metadata": {},
   "outputs": [],
   "source": [
    "weights = tree.arrays(weight_keys,library='pd')"
   ]
  },
  {
   "cell_type": "code",
   "execution_count": null,
   "metadata": {},
   "outputs": [],
   "source": []
  }
 ],
 "metadata": {
  "kernelspec": {
   "display_name": "env",
   "language": "python",
   "name": "python3"
  },
  "language_info": {
   "codemirror_mode": {
    "name": "ipython",
    "version": 3
   },
   "file_extension": ".py",
   "mimetype": "text/x-python",
   "name": "python",
   "nbconvert_exporter": "python",
   "pygments_lexer": "ipython3",
   "version": "3.9.19"
  }
 },
 "nbformat": 4,
 "nbformat_minor": 2
}
