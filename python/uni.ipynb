{
 "cells": [
  {
   "cell_type": "markdown",
   "metadata": {},
   "source": [
    "## 0. Setup packages and Constants"
   ]
  },
  {
   "cell_type": "code",
   "execution_count": null,
   "metadata": {},
   "outputs": [],
   "source": [
    "import pandas as pd\n",
    "import matplotlib.pyplot as plt\n",
    "import uproot\n",
    "import numpy as np\n",
    "import sys\n",
    "from tqdm import tqdm\n",
    "\n",
    "# Utils\n",
    "from utils import plotters\n",
    "\n",
    "plt.style.use('./utils/style.mplstyle')\n",
    "\n",
    "%load_ext autoreload\n",
    "%autoreload 2"
   ]
  },
  {
   "cell_type": "code",
   "execution_count": 59,
   "metadata": {},
   "outputs": [],
   "source": [
    "#Path to the ROOT file containing the universe covariance matrices\n",
    "DATA_PATH = '/exp/sbnd/data/users/brindenc/xsec_analysis/test/sbruce/uni_med_weight3.root'\n",
    "\n",
    "#Bin indices for the covariance matrix\n",
    "P_BINS = np.arange(0, 10)\n",
    "COSTHETA_OVERFLOW_BINS = np.arange(10, 20)\n",
    "COSTHETA_BINS = np.arange(10,19)"
   ]
  },
  {
   "cell_type": "markdown",
   "metadata": {},
   "source": [
    "# 1. Load the data"
   ]
  },
  {
   "cell_type": "code",
   "execution_count": 60,
   "metadata": {},
   "outputs": [],
   "source": [
    "tree = uproot.open(DATA_PATH)\n",
    "keys = tree.keys()\n",
    "#tree.keys() #display all keys in the ROOT file"
   ]
  },
  {
   "cell_type": "code",
   "execution_count": 61,
   "metadata": {},
   "outputs": [
    {
     "data": {
      "text/plain": [
       "474111"
      ]
     },
     "execution_count": 61,
     "metadata": {},
     "output_type": "execute_result"
    }
   ],
   "source": [
    "len(keys)"
   ]
  },
  {
   "cell_type": "code",
   "execution_count": 62,
   "metadata": {},
   "outputs": [
    {
     "data": {
      "text/html": [
       "<html>\n",
       "<div style=\"display:flex; align-items:center;\">\n",
       "<div style=\"width:290px;\">\n",
       "<svg xmlns=\"http://www.w3.org/2000/svg\" viewBox=\"-10 -105 270 120\">\n",
       "<line x1=\"-5\" y1=\"0\" x2=\"255\" y2=\"0\" style=\"fill:none;stroke-width:2;stroke:currentColor\"/>\n",
       "<text text-anchor=\"middle\" x=\"0\" y=\"15\" style=\"fill:currentColor;\">\n",
       "0\n",
       "</text>\n",
       "<text text-anchor=\"middle\" x=\"250\" y=\"15\" style=\"fill:currentColor;\">\n",
       "18\n",
       "</text>\n",
       "<text text-anchor=\"middle\" x=\"125.0\" y=\"15\" style=\"fill:currentColor;\">\n",
       " reco bin number\n",
       "</text>\n",
       "<polyline points=\"  0,0   0,-33.3 13.8889,-33.3 13.8889,-12.1 27.7778,-12.1 27.7778,-27.3 41.6667,-27.3 41.6667,-27.3 55.5556,-27.3 55.5556,-57.6 69.4444,-57.6 69.4444,-48.5 83.3333,-48.5 83.3333,-39.4 97.2222,-39.4 97.2222,-66.7 111.111,-66.7 111.111,-66.7 125,-66.7 125,-63.6 138.889,-63.6 138.889,-100 152.778,-100 152.778,-75.8 166.667,-75.8 166.667,-63.6 180.556,-63.6 180.556,-27.3 194.444,-27.3 194.444,-12.1 208.333,-12.1 208.333,-12.1 222.222,-12.1 222.222,-18.2 236.111,-18.2 236.111,-3.03 250,-3.03 250,0\" style=\"fill:none; stroke:currentColor;\"/>\n",
       "</svg>\n",
       "</div>\n",
       "<div style=\"flex=grow:1;\">\n",
       "Regular(18, 0, 18, name='xaxis', label=' reco bin number')<br/>\n",
       "<hr style=\"margin-top:.2em; margin-bottom:.2em;\"/>\n",
       "Weight() Σ=WeightedSum(value=249, variance=249)\n",
       "\n",
       "</div>\n",
       "</div>\n",
       "</html>"
      ],
      "text/plain": [
       "Hist(Regular(18, 0, 18, name='xaxis', label=' reco bin number'), storage=Weight()) # Sum: WeightedSum(value=249, variance=249)"
      ]
     },
     "execution_count": 62,
     "metadata": {},
     "output_type": "execute_result"
    }
   ],
   "source": [
    "key = 'SBND_CC1muX_1D/+exp+sbnd+data+users+brindenc+xsec_analysis+test+sbruce+cc1mux_med_weight_copy.root/unweighted_0_reco;1'\n",
    "tree[key].to_hist()"
   ]
  },
  {
   "cell_type": "code",
   "execution_count": 78,
   "metadata": {},
   "outputs": [
    {
     "name": "stderr",
     "output_type": "stream",
     "text": [
      "0it [00:00, ?it/s]"
     ]
    },
    {
     "name": "stderr",
     "output_type": "stream",
     "text": [
      "474111it [09:55, 795.92it/s] \n"
     ]
    }
   ],
   "source": [
    "p_nan_keys = []\n",
    "costheta_nan_keys = []\n",
    "wrong_length_keys = []\n",
    "dir_keys = []\n",
    "non_hist_keys = []\n",
    "accepted_keys = []\n",
    "negative_keys = []\n",
    "zero_keys = []\n",
    "\n",
    "\n",
    "#Check for nan values in the universes\n",
    "for i,_key in tqdm(enumerate(keys)):\n",
    "  # if i > 1000:\n",
    "  #   break\n",
    "  #print(i,_key)\n",
    "  _tree = tree[_key]\n",
    "  #skip directories\n",
    "  if '.root/' not in _key: \n",
    "    dir_keys.append(_key)\n",
    "    continue\n",
    "  \n",
    "  #skip non-histograms\n",
    "  if _tree.classname != 'TH1D':\n",
    "    non_hist_keys.append(_key)\n",
    "    continue\n",
    "  \n",
    "  #Check if the histogram has the correct number of bins\n",
    "  if (len(_tree.to_numpy()[0]) != (len(P_BINS) + len(COSTHETA_BINS))) \\\n",
    "    and (len(_tree.to_numpy()[0]) != (len(P_BINS) + len(COSTHETA_OVERFLOW_BINS))): #account for overflow bin \n",
    "    \n",
    "    #print(f'Incorrect number of bins for {_key}')\n",
    "    wrong_length_keys.append(_key)\n",
    "    continue\n",
    "  #Which keys do we use depends on which length it matches\n",
    "  if len(_tree.to_numpy()[0]) == (len(P_BINS) + len(COSTHETA_BINS)):\n",
    "    costheta_bins = COSTHETA_BINS\n",
    "  elif len(_tree.to_numpy()[0]) == (len(P_BINS) + len(COSTHETA_OVERFLOW_BINS)):\n",
    "    costheta_bins = COSTHETA_OVERFLOW_BINS\n",
    "  \n",
    "  #Get universe values for the momentum histogram\n",
    "  p_vals = _tree.to_numpy()[0][P_BINS]\n",
    "  if np.isnan(p_vals).sum() > 0:\n",
    "    p_nan_keys.append(_key)\n",
    "  \n",
    "  #Get universe values for the costheta histogram\n",
    "  costheta_vals = _tree.to_numpy()[0][costheta_bins]\n",
    "  if np.isnan(costheta_vals).sum() > 0:\n",
    "    costheta_nan_keys.append(_key)\n",
    "    \n",
    "  #Check for negative values\n",
    "  if (p_vals < 0).sum() > 0:\n",
    "    negative_keys.append(_key)\n",
    "  if (costheta_vals < 0).sum() > 0:\n",
    "    negative_keys.append(_key)\n",
    "  \n",
    "  #Check for zero values\n",
    "  if (p_vals == 0).sum() > 0:\n",
    "    zero_keys.append(_key)\n",
    "  if (costheta_vals == 0).sum() > 0:\n",
    "    zero_keys.append(_key)\n",
    "    \n",
    "  accepted_keys.append(_key)"
   ]
  },
  {
   "cell_type": "code",
   "execution_count": 79,
   "metadata": {},
   "outputs": [
    {
     "data": {
      "text/plain": [
       "(18, 19)"
      ]
     },
     "execution_count": 79,
     "metadata": {},
     "output_type": "execute_result"
    }
   ],
   "source": [
    "len(tree['SBND_CC1muX_1D/+exp+sbnd+data+users+brindenc+xsec_analysis+test+sbruce+cc1mux_med_weight.root/unweighted_0_reco;1'].to_numpy()[0]),\\\n",
    "len(tree['SBND_CC1muX_1D/+exp+sbnd+data+users+brindenc+xsec_analysis+test+sbruce+cc1mux_med_weight.root/unweighted_0_reco;1'].to_numpy()[1])"
   ]
  },
  {
   "cell_type": "code",
   "execution_count": 80,
   "metadata": {},
   "outputs": [
    {
     "data": {
      "text/plain": [
       "(0, 94839, 252848, 0, 0, 126424)"
      ]
     },
     "execution_count": 80,
     "metadata": {},
     "output_type": "execute_result"
    }
   ],
   "source": [
    "len(wrong_length_keys),len(dir_keys),len(non_hist_keys),len(p_nan_keys),len(costheta_nan_keys),len(accepted_keys)"
   ]
  },
  {
   "cell_type": "code",
   "execution_count": 81,
   "metadata": {},
   "outputs": [
    {
     "ename": "IndexError",
     "evalue": "list index out of range",
     "output_type": "error",
     "traceback": [
      "\u001b[0;31m---------------------------------------------------------------------------\u001b[0m",
      "\u001b[0;31mIndexError\u001b[0m                                Traceback (most recent call last)",
      "Cell \u001b[0;32mIn[81], line 1\u001b[0m\n\u001b[0;32m----> 1\u001b[0m wrong_length_th1d \u001b[38;5;241m=\u001b[39m tree[\u001b[43mwrong_length_keys\u001b[49m\u001b[43m[\u001b[49m\u001b[38;5;241;43m0\u001b[39;49m\u001b[43m]\u001b[49m]\u001b[38;5;241m.\u001b[39mto_numpy()\n\u001b[1;32m      2\u001b[0m correct_length_th1d \u001b[38;5;241m=\u001b[39m tree[accepted_keys[\u001b[38;5;241m0\u001b[39m]]\u001b[38;5;241m.\u001b[39mto_numpy()\n\u001b[1;32m      3\u001b[0m \u001b[38;5;28mlen\u001b[39m(wrong_length_th1d[\u001b[38;5;241m0\u001b[39m]), \u001b[38;5;28mlen\u001b[39m(P_BINS) \u001b[38;5;241m+\u001b[39m \u001b[38;5;28mlen\u001b[39m(COSTHETA_BINS), \u001b[38;5;28mlen\u001b[39m(correct_length_th1d[\u001b[38;5;241m0\u001b[39m])\n",
      "\u001b[0;31mIndexError\u001b[0m: list index out of range"
     ]
    }
   ],
   "source": [
    "wrong_length_th1d = tree[wrong_length_keys[0]].to_numpy()\n",
    "correct_length_th1d = tree[accepted_keys[0]].to_numpy()\n",
    "len(wrong_length_th1d[0]), len(P_BINS) + len(COSTHETA_BINS), len(correct_length_th1d[0])"
   ]
  },
  {
   "cell_type": "code",
   "execution_count": 68,
   "metadata": {},
   "outputs": [
    {
     "data": {
      "text/plain": [
       "(array([11.,  4.,  9.,  9., 19., 16., 13., 22., 22., 21., 33., 25., 21.,\n",
       "         9.,  4.,  4.,  6.,  1.]),\n",
       " 'SBND_CC1muX_1D/+exp+sbnd+data+users+brindenc+xsec_analysis+test+sbruce+cc1mux_med_weight.root/unweighted_0_reco;1')"
      ]
     },
     "execution_count": 68,
     "metadata": {},
     "output_type": "execute_result"
    }
   ],
   "source": [
    "correct_length_th1d[0],accepted_keys[0]"
   ]
  },
  {
   "cell_type": "code",
   "execution_count": 69,
   "metadata": {},
   "outputs": [
    {
     "data": {
      "text/plain": [
       "(19, 19)"
      ]
     },
     "execution_count": 69,
     "metadata": {},
     "output_type": "execute_result"
    }
   ],
   "source": [
    "len(wrong_length_th1d[1]),len(tree[key].to_numpy()[1])"
   ]
  },
  {
   "cell_type": "code",
   "execution_count": 29,
   "metadata": {},
   "outputs": [
    {
     "data": {
      "text/plain": [
       "(array([1., 3., 1., 0., 3., 1., 1., 0., 1., 0., 1., 4., 0., 1., 0., 0., 0.,\n",
       "        1.]),\n",
       " array([ 1.        ,  2.77777778,  4.55555556,  6.33333333,  8.11111111,\n",
       "         9.88888889, 11.66666667, 13.44444444, 15.22222222, 17.        ,\n",
       "        18.77777778, 20.55555556, 22.33333333, 24.11111111, 25.88888889,\n",
       "        27.66666667, 29.44444444, 31.22222222, 33.        ]),\n",
       " <BarContainer object of 18 artists>)"
      ]
     },
     "execution_count": 29,
     "metadata": {},
     "output_type": "execute_result"
    },
    {
     "data": {
      "image/png": "[encoded data removed]",
      "text/plain": [
       "<Figure size 640x480 with 1 Axes>"
      ]
     },
     "metadata": {},
     "output_type": "display_data"
    }
   ],
   "source": []
  },
  {
   "cell_type": "code",
   "execution_count": 23,
   "metadata": {},
   "outputs": [
    {
     "data": {
      "text/plain": [
       "(array([0, 1, 2, 3, 4, 5, 6, 7, 8]),\n",
       " array([ 9, 10, 11, 12, 13, 14, 15, 16, 17, 18]))"
      ]
     },
     "execution_count": 23,
     "metadata": {},
     "output_type": "execute_result"
    }
   ],
   "source": [
    "P_BINS,COSTHETA_BINS"
   ]
  },
  {
   "cell_type": "code",
   "execution_count": 29,
   "metadata": {},
   "outputs": [
    {
     "ename": "AttributeError",
     "evalue": "'Model_TH1D_v2' object has no attribute 'classnames'",
     "output_type": "error",
     "traceback": [
      "\u001b[0;31m---------------------------------------------------------------------------\u001b[0m",
      "\u001b[0;31mAttributeError\u001b[0m                            Traceback (most recent call last)",
      "Cell \u001b[0;32mIn[29], line 2\u001b[0m\n\u001b[1;32m      1\u001b[0m _tree\u001b[38;5;241m.\u001b[39mclassnames()\n\u001b[0;32m----> 2\u001b[0m \u001b[43mtree\u001b[49m\u001b[43m[\u001b[49m\u001b[43mkey\u001b[49m\u001b[43m]\u001b[49m\u001b[38;5;241;43m.\u001b[39;49m\u001b[43mclassnames\u001b[49m()\n",
      "\u001b[0;31mAttributeError\u001b[0m: 'Model_TH1D_v2' object has no attribute 'classnames'"
     ]
    }
   ],
   "source": [
    "_tree.classnames()\n",
    "tree[key].classnames()"
   ]
  },
  {
   "cell_type": "code",
   "execution_count": null,
   "metadata": {},
   "outputs": [],
   "source": []
  }
 ],
 "metadata": {
  "kernelspec": {
   "display_name": "env",
   "language": "python",
   "name": "python3"
  },
  "language_info": {
   "codemirror_mode": {
    "name": "ipython",
    "version": 3
   },
   "file_extension": ".py",
   "mimetype": "text/x-python",
   "name": "python",
   "nbconvert_exporter": "python",
   "pygments_lexer": "ipython3",
   "version": "3.9.19"
  }
 },
 "nbformat": 4,
 "nbformat_minor": 2
}
